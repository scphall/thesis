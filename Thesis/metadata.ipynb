{
 "metadata": {
  "name": "",
  "signature": "sha256:61d833b543823157c61b60d4593bac0c5d181a90453aead5112d50e1eedba9de"
 },
 "nbformat": 3,
 "nbformat_minor": 0,
 "worksheets": [
  {
   "cells": [
    {
     "cell_type": "code",
     "collapsed": false,
     "input": [
      "import os\n",
      "import re\n",
      "import pandas\n",
      "import datetime\n",
      "import pylab as pl\n",
      "mdpath = os.path.abspath(os.path.join(os.getcwd(), '..', 'Thesis'))\n",
      "mdpath = os.path.join(mdpath, 'metadata')"
     ],
     "language": "python",
     "metadata": {},
     "outputs": [],
     "prompt_number": 13
    },
    {
     "cell_type": "code",
     "collapsed": false,
     "input": [
      "lines = []\n",
      "with open(mdpath) as f:\n",
      "    line = f.readline()\n",
      "    lines.append(line)\n",
      "    while line:\n",
      "        lines.append(line)\n",
      "        line = f.readline()"
     ],
     "language": "python",
     "metadata": {},
     "outputs": [],
     "prompt_number": 2
    },
    {
     "cell_type": "code",
     "collapsed": false,
     "input": [
      "data = {}\n",
      "current_date = None\n",
      "current_words = None\n",
      "for line in lines:\n",
      "    date = re.search('[0-9]+-[0-9]+-[0-9]+', line)\n",
      "    if date is not None:\n",
      "        current_date = datetime.datetime.strptime(date.group(), '%m-%d-%Y')\n",
      "    words = re.search('Words in text: ([0-9]+)', line)\n",
      "    if words is not None:\n",
      "        current_words = float(words.groups()[0])\n",
      "    if (current_words is not None) and (current_date is not None):\n",
      "        data[current_date.date()] = {'words' : current_words}\n",
      "        cutrrent_data, current_words = None, None"
     ],
     "language": "python",
     "metadata": {},
     "outputs": [],
     "prompt_number": 5
    },
    {
     "cell_type": "code",
     "collapsed": false,
     "input": [
      "df = pandas.DataFrame.from_dict(data)\n",
      "df.T['words'].plot(\n",
      "    marker='o', linestyle='', color='k',\n",
      ")\n",
      "pl.xlabel('Date')\n",
      "pl.ylabel('Word count')\n",
      "pl.xticks(rotation=20)"
     ],
     "language": "python",
     "metadata": {},
     "outputs": [
      {
       "metadata": {},
       "output_type": "pyout",
       "prompt_number": 30,
       "text": [
        "(array([ 735639.,  735641.,  735643.,  735645.,  735647.,  735649.,\n",
        "         735651.,  735653.]), <a list of 8 Text xticklabel objects>)"
       ]
      },
      {
       "metadata": {},
       "output_type": "display_data",
       "png": "[encoded data removed]",
       "text": [
        "<matplotlib.figure.Figure at 0x10610c710>"
       ]
      }
     ],
     "prompt_number": 30
    },
    {
     "cell_type": "code",
     "collapsed": false,
     "input": [],
     "language": "python",
     "metadata": {},
     "outputs": []
    }
   ],
   "metadata": {}
  }
 ]
}